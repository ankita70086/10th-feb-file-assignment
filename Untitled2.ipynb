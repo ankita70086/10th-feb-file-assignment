{
 "cells": [
  {
   "cell_type": "code",
   "execution_count": null,
   "id": "3f29b00c-c46d-4ccf-b849-59b255ef4a5a",
   "metadata": {},
   "outputs": [],
   "source": [
    "1 . to open a file we use open() function . Diffent modes of opening a file are :\n",
    "      \n",
    "        'r': Read mode (default). This mode allows you to read data from the file. If the file doesn't exist, it will raise a FileNotFoundError.\n",
    "\n",
    "'w': Write mode. This mode creates a new file for writing. If the file already exists, it truncates the file and starts writing from the beginning.\n",
    "     \n",
    "\n",
    "'a': Append mode. This mode opens the file for writing, but appends new data at the end of the file instead of overwriting it. \n",
    "\n",
    "\n",
    "'x': Exclusive creation mode. This mode is used to create a new file, but it raises a FileExistsError if the file already exists.\n",
    "\n",
    "'b': Binary mode. This mode is used when working with binary files, such as images or non-text files. It is combined with other modes, like 'rb' for reading a binary file or 'wb' for writing a binary file.\n",
    "\n",
    "'t': Text mode (default). This mode is used when working with text files. It is combined with other modes, like 'rt' for reading a text file or 'wt' for writing a text file.\n",
    "\n"
   ]
  },
  {
   "cell_type": "code",
   "execution_count": null,
   "id": "e921046a-27bd-4078-9fe0-f7407c5a3572",
   "metadata": {},
   "outputs": [],
   "source": [
    "2 . close() function is used to close a file that has been opened . When you write data to a file, it is often stored in a buffer before being \n",
    "physically written to the disk. Closing the file ensures that any remaining data in the buffer is flushed and written to the file.\n",
    "If you don't close the file properly, some or all of the data may not be saved.\n",
    "\n"
   ]
  },
  {
   "cell_type": "code",
   "execution_count": null,
   "id": "4d0653e1-2788-4939-b7f9-26cff67129f7",
   "metadata": {},
   "outputs": [],
   "source": [
    "3."
   ]
  },
  {
   "cell_type": "code",
   "execution_count": 2,
   "id": "22d7ad85-e2ce-46b1-8325-3f854b7778e0",
   "metadata": {},
   "outputs": [],
   "source": [
    " f = open(\"file.txt\" , \"w\")\n",
    "    "
   ]
  },
  {
   "cell_type": "code",
   "execution_count": 3,
   "id": "c28b7967-868f-4633-a59d-abc62f66029d",
   "metadata": {},
   "outputs": [
    {
     "data": {
      "text/plain": [
       "33"
      ]
     },
     "execution_count": 3,
     "metadata": {},
     "output_type": "execute_result"
    }
   ],
   "source": [
    ".write(\"i wafnt to become a data scientist\")"
   ]
  },
  {
   "cell_type": "code",
   "execution_count": 4,
   "id": "f06d1420-fb4c-40ca-b1f2-8101fdcb0baf",
   "metadata": {},
   "outputs": [],
   "source": [
    "f.close()"
   ]
  },
  {
   "cell_type": "code",
   "execution_count": 6,
   "id": "4a93bfd4-b782-40f1-8dc9-1e064ffccba6",
   "metadata": {},
   "outputs": [
    {
     "data": {
      "text/plain": [
       "'i want to become a data scientist'"
      ]
     },
     "execution_count": 6,
     "metadata": {},
     "output_type": "execute_result"
    }
   ],
   "source": [
    "info = open (\"file.txt\",\"r\")\n",
    "info.read()"
   ]
  },
  {
   "cell_type": "code",
   "execution_count": null,
   "id": "e77c83e7-bd23-4e4c-8cdf-738cc4d48504",
   "metadata": {},
   "outputs": [],
   "source": [
    "4."
   ]
  },
  {
   "cell_type": "code",
   "execution_count": 13,
   "id": "9f109e67-4b78-411f-a33a-ce079f6b3c2d",
   "metadata": {},
   "outputs": [],
   "source": [
    " f = open (\"file2.txt\",\"w\")"
   ]
  },
  {
   "cell_type": "code",
   "execution_count": 15,
   "id": "6f3390bc-4046-486c-a872-cc9ebe18bff8",
   "metadata": {},
   "outputs": [
    {
     "data": {
      "text/plain": [
       "525"
      ]
     },
     "execution_count": 15,
     "metadata": {},
     "output_type": "execute_result"
    }
   ],
   "source": [
    "f.write(\"Data science is an interdisciplinary field that combines scientific methods, algorithms, and systems to extract knowledge and insights from structured and unstructured data. It leverages techniques from statistics, mathematics, computer science, and domain knowledge to uncover valuable information hidden within vast amounts of data.In todays data-driven world, organizations across various industries recognize the potential of data science to drive informed decision-making, optimize processes, and gain a competitive edge\")"
   ]
  },
  {
   "cell_type": "code",
   "execution_count": 17,
   "id": "54d8d51e-f027-4cc3-a7e1-6700c9c3e060",
   "metadata": {},
   "outputs": [],
   "source": [
    "f.close()"
   ]
  },
  {
   "cell_type": "code",
   "execution_count": 18,
   "id": "f8dbaafe-3286-45fe-ad75-b7feec91171f",
   "metadata": {},
   "outputs": [],
   "source": [
    "data = open(\"file2.txt\", \"r\")"
   ]
  },
  {
   "cell_type": "code",
   "execution_count": 19,
   "id": "7164cda4-a790-4d0c-a3c0-37cdd99221d2",
   "metadata": {},
   "outputs": [
    {
     "data": {
      "text/plain": [
       "'Data science is an interdisciplinary field that combines scientific methods, algorithms, and systems to extract knowledge and insights from structured and unstructured data. It leverages techniques from statistics, mathematics, computer science, and domain knowledge to uncover valuable information hidden within vast amounts of data.In todays data-driven world, organizations across various industries recognize the potential of data science to drive informed decision-making, optimize processes, and gain a competitive edge'"
      ]
     },
     "execution_count": 19,
     "metadata": {},
     "output_type": "execute_result"
    }
   ],
   "source": [
    "data.read()"
   ]
  },
  {
   "cell_type": "code",
   "execution_count": 22,
   "id": "6839761d-d4a5-4dfb-8036-fe7773c9e6d9",
   "metadata": {},
   "outputs": [
    {
     "name": "stdout",
     "output_type": "stream",
     "text": [
      "Data science is an interdisciplinary field that combines scientific methods, algorithms, and systems to extract knowledge and insights from structured and unstructured data. It leverages techniques from statistics, mathematics, computer science, and domain knowledge to uncover valuable information hidden within vast amounts of data.In todays data-driven world, organizations across various industries recognize the potential of data science to drive informed decision-making, optimize processes, and gain a competitive edge\n",
      "\n"
     ]
    }
   ],
   "source": [
    "with open('file2.txt', 'r') as file:\n",
    "    line1 = file.readline()\n",
    "    line2 = file.readline()\n",
    "    print(line1)\n",
    "    print(line2)"
   ]
  },
  {
   "cell_type": "code",
   "execution_count": 26,
   "id": "049739f0-9f91-493e-96b2-de8c1e928a3a",
   "metadata": {},
   "outputs": [
    {
     "name": "stdout",
     "output_type": "stream",
     "text": [
      "Data science is an interdisciplinary field that combines scientific methods, algorithms, and systems to extract knowledge and insights from structured and unstructured data. It leverages techniques from statistics, mathematics, computer science, and domain knowledge to uncover valuable information hidden within vast amounts of data.In todays data-driven world, organizations across various industries recognize the potential of data science to drive informed decision-making, optimize processes, and gain a competitive edge\n"
     ]
    }
   ],
   "source": [
    "with open('file2.txt', 'r') as file:\n",
    "    lines = file.readlines()\n",
    "    for line in lines:\n",
    "        print(line)"
   ]
  },
  {
   "cell_type": "code",
   "execution_count": null,
   "id": "928fe353-acc6-4b9a-82d1-0e8fd3f76cbe",
   "metadata": {},
   "outputs": [],
   "source": [
    "read() function reads the whole content of the file as a single string . \n",
    "\n",
    "The readline() method reads a single line from the file. It moves the file pointer to the next line after reading.\n",
    "  Calling readline() again will read the next line, and so on. If the end of the file is reached, it returns an empty string.\n",
    "    \n",
    "The readlines() method reads all the lines from the file and returns them as a list of strings. Each line is stored as a separate element in the list\n"
   ]
  },
  {
   "cell_type": "code",
   "execution_count": null,
   "id": "869ac7bc-e2a0-490e-b001-8e6d08626cb0",
   "metadata": {},
   "outputs": [],
   "source": [
    "5."
   ]
  },
  {
   "cell_type": "code",
   "execution_count": null,
   "id": "829b3442-44ae-41cd-8712-5b33c5a436b0",
   "metadata": {},
   "outputs": [],
   "source": [
    "The with statement in Python is used with the open() function for context management. When used together, the with \n",
    "statement provides a convenient and reliable way to handle files by automatically taking care of resource allocation \n",
    "and deallocation . by using with statment with open() we need not to call the close() function explictcitly to close the file .\n",
    "\n"
   ]
  },
  {
   "cell_type": "code",
   "execution_count": null,
   "id": "4cb7c23e-5859-4d93-b7b7-d835b778437f",
   "metadata": {},
   "outputs": [],
   "source": [
    "6. "
   ]
  },
  {
   "cell_type": "code",
   "execution_count": null,
   "id": "c4e6d6a4-48e8-4bd7-ab37-951835951966",
   "metadata": {},
   "outputs": [],
   "source": [
    "write() function is used to write string of data in a file "
   ]
  },
  {
   "cell_type": "code",
   "execution_count": 28,
   "id": "c978986e-e1bc-448e-9588-e2fae4a15bcc",
   "metadata": {},
   "outputs": [],
   "source": [
    "f = open(\"test2.txt\",\"w\")"
   ]
  },
  {
   "cell_type": "code",
   "execution_count": 29,
   "id": "18acf116-d1e4-4203-a44d-d8a153e603f3",
   "metadata": {},
   "outputs": [
    {
     "data": {
      "text/plain": [
       "27"
      ]
     },
     "execution_count": 29,
     "metadata": {},
     "output_type": "execute_result"
    }
   ],
   "source": [
    "f.write(\"this is my write() function\")"
   ]
  },
  {
   "cell_type": "code",
   "execution_count": 30,
   "id": "92f2c58c-83ab-4838-aa25-25eea5ba50e8",
   "metadata": {},
   "outputs": [],
   "source": [
    "f.close()"
   ]
  },
  {
   "cell_type": "code",
   "execution_count": null,
   "id": "696a4738-0da9-43db-ac63-d7649d783da7",
   "metadata": {},
   "outputs": [],
   "source": [
    "writelines() function is used to write multiple lines of data to a file. It takes an iterable (such as a list or tuple) \n",
    "containing strings as input. Each string represents a line of text to be written. It does not add newline characters automatically,\n",
    "so you need to include them explicitly if desired."
   ]
  },
  {
   "cell_type": "code",
   "execution_count": 31,
   "id": "a63b022c-bc9d-4067-85b7-092d8b95d894",
   "metadata": {},
   "outputs": [],
   "source": [
    "\n",
    "file = open('filename.txt', 'w')\n",
    "\n",
    "lines = ['i am a student of pwskills\\n', ' I purchased datascience course .\\n', 'currently we are learning python\\n']\n",
    "file.writelines(lines)\n",
    "\n",
    "file.close()\n"
   ]
  },
  {
   "cell_type": "code",
   "execution_count": null,
   "id": "b8d8a731-9062-4e32-ad34-840c227a9e20",
   "metadata": {},
   "outputs": [],
   "source": []
  }
 ],
 "metadata": {
  "kernelspec": {
   "display_name": "Python 3 (ipykernel)",
   "language": "python",
   "name": "python3"
  },
  "language_info": {
   "codemirror_mode": {
    "name": "ipython",
    "version": 3
   },
   "file_extension": ".py",
   "mimetype": "text/x-python",
   "name": "python",
   "nbconvert_exporter": "python",
   "pygments_lexer": "ipython3",
   "version": "3.10.8"
  }
 },
 "nbformat": 4,
 "nbformat_minor": 5
}
